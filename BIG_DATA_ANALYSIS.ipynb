{
  "nbformat": 4,
  "nbformat_minor": 0,
  "metadata": {
    "colab": {
      "provenance": []
    },
    "kernelspec": {
      "name": "python3",
      "display_name": "Python 3"
    },
    "language_info": {
      "name": "python"
    }
  },
  "cells": [
    {
      "cell_type": "code",
      "source": [
        "# Mount Google Drive to access files stored in your Drive from the Colab environment\n",
        "from google.colab import drive\n",
        "drive.mount('/content/drive')"
      ],
      "metadata": {
        "colab": {
          "base_uri": "https://localhost:8080/"
        },
        "id": "8Y9pwoqzhwfS",
        "outputId": "ecb82cd5-97d1-4d28-d6fc-53ce50e8670f"
      },
      "execution_count": null,
      "outputs": [
        {
          "output_type": "stream",
          "name": "stdout",
          "text": [
            "Drive already mounted at /content/drive; to attempt to forcibly remount, call drive.mount(\"/content/drive\", force_remount=True).\n"
          ]
        }
      ]
    },
    {
      "cell_type": "code",
      "source": [
        "# Import SparkSession to create and manage a Spark application\n",
        "from pyspark.sql import SparkSession\n",
        "# Import functions for column operations, average, and count from PySpark\n",
        "from pyspark.sql.functions import col, avg, count\n"
      ],
      "metadata": {
        "id": "uh0JQI4JodEM"
      },
      "execution_count": null,
      "outputs": []
    },
    {
      "cell_type": "code",
      "source": [
        "# Create or retrieve a SparkSession named \"Scalable Data Analysis\"\n",
        "spark = SparkSession.builder \\\n",
        "    .appName(\"Scalable Data Analysis\") \\\n",
        "    .getOrCreate()\n"
      ],
      "metadata": {
        "id": "8g2HUCRPXtRr"
      },
      "execution_count": null,
      "outputs": []
    },
    {
      "cell_type": "code",
      "source": [
        "# Read a CSV file from Google Drive into a Spark DataFrame,\n",
        "# with the first row as header and automatically inferring data types\n",
        "df = spark.read.csv(\"/content/drive/MyDrive/Financial Sample.csv\", header=True, inferSchema=True)\n",
        "\n",
        "# Print the schema of the DataFrame to see column names and data types\n",
        "df.printSchema()\n"
      ],
      "metadata": {
        "colab": {
          "base_uri": "https://localhost:8080/"
        },
        "id": "qjWi97dXZP7s",
        "outputId": "3609154a-64c7-4d10-ac48-fbd34a05459b"
      },
      "execution_count": null,
      "outputs": [
        {
          "output_type": "stream",
          "name": "stdout",
          "text": [
            "root\n",
            " |-- Segment: string (nullable = true)\n",
            " |-- Country: string (nullable = true)\n",
            " |--  Product : string (nullable = true)\n",
            " |--  Discount Band : string (nullable = true)\n",
            " |-- Units Sold: double (nullable = true)\n",
            " |--  Manufacturing Price : string (nullable = true)\n",
            " |--  Sale Price : string (nullable = true)\n",
            " |--  Gross Sales : string (nullable = true)\n",
            " |--  Discounts : string (nullable = true)\n",
            " |--   Sales : string (nullable = true)\n",
            " |--  COGS : string (nullable = true)\n",
            " |--  Profit : string (nullable = true)\n",
            " |-- Date: string (nullable = true)\n",
            " |-- Month Number: integer (nullable = true)\n",
            " |--  Month Name : string (nullable = true)\n",
            " |-- Year: integer (nullable = true)\n",
            "\n"
          ]
        }
      ]
    },
    {
      "cell_type": "code",
      "source": [
        " #Count and print the total number of rows in the Spark DataFrame\n",
        "print(\"Total Rows:\", df.count())\n"
      ],
      "metadata": {
        "colab": {
          "base_uri": "https://localhost:8080/"
        },
        "id": "p9h0weabZEfc",
        "outputId": "cf2957ee-15f1-4a9d-ceae-1ea9716aff3b"
      },
      "execution_count": null,
      "outputs": [
        {
          "output_type": "stream",
          "name": "stdout",
          "text": [
            "Total Rows: 700\n"
          ]
        }
      ]
    },
    {
      "cell_type": "code",
      "source": [
        "# Display the first 5 rows of the DataFrame in a tabular format\n",
        "df.show(5)\n"
      ],
      "metadata": {
        "colab": {
          "base_uri": "https://localhost:8080/"
        },
        "id": "nLH7bytQZKBT",
        "outputId": "0e3dddef-a23d-497a-9dff-2b1602adfe4d"
      },
      "execution_count": null,
      "outputs": [
        {
          "output_type": "stream",
          "name": "stdout",
          "text": [
            "+----------+-------+-----------+---------------+----------+---------------------+------------+-------------+-----------+------------+------------+------------+----------+------------+------------+----+\n",
            "|   Segment|Country|   Product | Discount Band |Units Sold| Manufacturing Price | Sale Price | Gross Sales | Discounts |      Sales |       COGS |     Profit |      Date|Month Number| Month Name |Year|\n",
            "+----------+-------+-----------+---------------+----------+---------------------+------------+-------------+-----------+------------+------------+------------+----------+------------+------------+----+\n",
            "|Government| Canada| Carretera |          None |    1618.5|               $3.00 |     $20.00 |  $32,370.00 |      $-   | $32,370.00 | $16,185.00 | $16,185.00 |01-01-2014|           1|    January |2014|\n",
            "|Government|Germany| Carretera |          None |    1321.0|               $3.00 |     $20.00 |  $26,420.00 |      $-   | $26,420.00 | $13,210.00 | $13,210.00 |01-01-2014|           1|    January |2014|\n",
            "| Midmarket| France| Carretera |          None |    2178.0|               $3.00 |     $15.00 |  $32,670.00 |      $-   | $32,670.00 | $21,780.00 | $10,890.00 |01-06-2014|           6|       June |2014|\n",
            "| Midmarket|Germany| Carretera |          None |     888.0|               $3.00 |     $15.00 |  $13,320.00 |      $-   | $13,320.00 |  $8,880.00 |  $4,440.00 |01-06-2014|           6|       June |2014|\n",
            "| Midmarket| Mexico| Carretera |          None |    2470.0|               $3.00 |     $15.00 |  $37,050.00 |      $-   | $37,050.00 | $24,700.00 | $12,350.00 |01-06-2014|           6|       June |2014|\n",
            "+----------+-------+-----------+---------------+----------+---------------------+------------+-------------+-----------+------------+------------+------------+----------+------------+------------+----+\n",
            "only showing top 5 rows\n",
            "\n"
          ]
        }
      ]
    },
    {
      "cell_type": "code",
      "source": [
        "# Import SparkSession to create a Spark application\n",
        "from pyspark.sql import SparkSession\n",
        "\n",
        "# Import functions for regex replacement, column operations, and average calculation\n",
        "from pyspark.sql.functions import regexp_replace, col, avg\n",
        "\n",
        "# Initialize a SparkSession with the application name \"Financial Analysis\"\n",
        "spark = SparkSession.builder.appName(\"Financial Analysis\").getOrCreate()\n"
      ],
      "metadata": {
        "id": "3UyW0MjHZ-ia"
      },
      "execution_count": null,
      "outputs": []
    },
    {
      "cell_type": "code",
      "source": [
        "# Load the CSV file from Google Drive into a Spark DataFrame with header and schema inference enabled\n",
        "df = spark.read.csv(\"/content/drive/MyDrive/Financial Sample.csv\", header=True, inferSchema=True)\n"
      ],
      "metadata": {
        "id": "3S0OjCzuaHUz"
      },
      "execution_count": null,
      "outputs": []
    },
    {
      "cell_type": "code",
      "source": [
        "# Create a new column \"Profit_Clean\" by removing dollar signs and commas from the \" Profit \" column,\n",
        "# then convert the cleaned string values to double (numeric) type for analysis\n",
        "df = df.withColumn(\"Profit_Clean\", regexp_replace(col(\" Profit \"), \"[$,]\", \"\").cast(\"double\"))"
      ],
      "metadata": {
        "id": "w_eyD59Abih3"
      },
      "execution_count": null,
      "outputs": []
    },
    {
      "cell_type": "code",
      "source": [
        "# Group the DataFrame by \"Country\", calculate the average of the cleaned profit values,\n",
        "# rename the aggregated column to \"Average_Profit\", sort the results in descending order,\n",
        "# and display the top rows\n",
        "df.groupBy(\"Country\") \\\n",
        "  .agg(avg(\"Profit_Clean\").alias(\"Average_Profit\")) \\\n",
        "  .orderBy(\"Average_Profit\", ascending=False) \\\n",
        "  .show()\n",
        "\n",
        "df.groupBy(\"Country\") \\\n",
        "  .agg(avg(\"Profit_Clean\").alias(\"Average_Profit\")) \\\n",
        "  .orderBy(\"Average_Profit\", ascending=False) \\\n",
        "  .show()\n"
      ],
      "metadata": {
        "colab": {
          "base_uri": "https://localhost:8080/"
        },
        "id": "QyxXvnwYbo8O",
        "outputId": "5d18d4fa-166a-458a-e89f-25d991c66e94"
      },
      "execution_count": null,
      "outputs": [
        {
          "output_type": "stream",
          "name": "stdout",
          "text": [
            "+--------------------+------------------+\n",
            "|             Country|    Average_Profit|\n",
            "+--------------------+------------------+\n",
            "|              France| 30761.84677165355|\n",
            "|             Germany|29850.664609375006|\n",
            "|              Canada|28413.212615384615|\n",
            "|United States of ...| 25368.59666666666|\n",
            "|              Mexico|24231.929444444446|\n",
            "+--------------------+------------------+\n",
            "\n",
            "+--------------------+------------------+\n",
            "|             Country|    Average_Profit|\n",
            "+--------------------+------------------+\n",
            "|              France| 30761.84677165355|\n",
            "|             Germany|29850.664609375006|\n",
            "|              Canada|28413.212615384615|\n",
            "|United States of ...| 25368.59666666666|\n",
            "|              Mexico|24231.929444444446|\n",
            "+--------------------+------------------+\n",
            "\n"
          ]
        }
      ]
    }
  ]
}